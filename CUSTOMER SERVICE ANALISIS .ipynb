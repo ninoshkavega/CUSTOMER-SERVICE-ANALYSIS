{
 "cells": [
  {
   "cell_type": "code",
   "execution_count": 61,
   "id": "0228c5dd",
   "metadata": {},
   "outputs": [
    {
     "name": "stdout",
     "output_type": "stream",
     "text": [
      "        satisfaction  Gender      Customer Type  Age   Type of Travel  \\\n",
      "0          satisfied  Female     Loyal Customer   65  Personal Travel   \n",
      "1          satisfied    Male     Loyal Customer   47  Personal Travel   \n",
      "2          satisfied  Female     Loyal Customer   15  Personal Travel   \n",
      "3          satisfied  Female     Loyal Customer   60  Personal Travel   \n",
      "4          satisfied  Female     Loyal Customer   70  Personal Travel   \n",
      "...              ...     ...                ...  ...              ...   \n",
      "129875     satisfied  Female  disloyal Customer   29  Personal Travel   \n",
      "129876  dissatisfied    Male  disloyal Customer   63  Personal Travel   \n",
      "129877  dissatisfied    Male  disloyal Customer   69  Personal Travel   \n",
      "129878  dissatisfied    Male  disloyal Customer   66  Personal Travel   \n",
      "129879  dissatisfied  Female  disloyal Customer   38  Personal Travel   \n",
      "\n",
      "           Class  Flight Distance  Seat comfort  \\\n",
      "0            Eco              265             0   \n",
      "1       Business             2464             0   \n",
      "2            Eco             2138             0   \n",
      "3            Eco              623             0   \n",
      "4            Eco              354             0   \n",
      "...          ...              ...           ...   \n",
      "129875       Eco             1731             5   \n",
      "129876  Business             2087             2   \n",
      "129877       Eco             2320             3   \n",
      "129878       Eco             2450             3   \n",
      "129879       Eco             4307             3   \n",
      "\n",
      "        Departure/Arrival time convenient  Food and drink  ...  \\\n",
      "0                                       0               0  ...   \n",
      "1                                       0               0  ...   \n",
      "2                                       0               0  ...   \n",
      "3                                       0               0  ...   \n",
      "4                                       0               0  ...   \n",
      "...                                   ...             ...  ...   \n",
      "129875                                  5               5  ...   \n",
      "129876                                  3               2  ...   \n",
      "129877                                  0               3  ...   \n",
      "129878                                  2               3  ...   \n",
      "129879                                  4               3  ...   \n",
      "\n",
      "        Online support  Ease of Online booking  On-board service  \\\n",
      "0                    2                       3                 3   \n",
      "1                    2                       3                 4   \n",
      "2                    2                       2                 3   \n",
      "3                    3                       1                 1   \n",
      "4                    4                       2                 2   \n",
      "...                ...                     ...               ...   \n",
      "129875               2                       2                 3   \n",
      "129876               1                       3                 2   \n",
      "129877               2                       4                 4   \n",
      "129878               2                       3                 3   \n",
      "129879               3                       4                 5   \n",
      "\n",
      "        Leg room service  Baggage handling  Checkin service  Cleanliness  \\\n",
      "0                      0                 3                5            3   \n",
      "1                      4                 4                2            3   \n",
      "2                      3                 4                4            4   \n",
      "3                      0                 1                4            1   \n",
      "4                      0                 2                4            2   \n",
      "...                  ...               ...              ...          ...   \n",
      "129875                 3                 4                4            4   \n",
      "129876                 3                 3                1            2   \n",
      "129877                 3                 4                2            3   \n",
      "129878                 2                 3                2            1   \n",
      "129879                 5                 5                3            3   \n",
      "\n",
      "        Online boarding  Departure Delay in Minutes  Arrival Delay in Minutes  \n",
      "0                     2                           0                       0.0  \n",
      "1                     2                         310                     305.0  \n",
      "2                     2                           0                       0.0  \n",
      "3                     3                           0                       0.0  \n",
      "4                     5                           0                       0.0  \n",
      "...                 ...                         ...                       ...  \n",
      "129875                2                           0                       0.0  \n",
      "129876                1                         174                     172.0  \n",
      "129877                2                         155                     163.0  \n",
      "129878                2                         193                     205.0  \n",
      "129879                3                         185                     186.0  \n",
      "\n",
      "[129880 rows x 23 columns]\n"
     ]
    }
   ],
   "source": [
    "import pandas as pd\n",
    "import numpy as np\n",
    "DF = pd.read_csv(r'C:\\Users\\geosh\\Desktop\\python course\\Invistico_Airline.csv')\n",
    "print(DF)\n"
   ]
  },
  {
   "cell_type": "code",
   "execution_count": 62,
   "id": "edd75d8b",
   "metadata": {},
   "outputs": [
    {
     "data": {
      "text/plain": [
       "(129880, 23)"
      ]
     },
     "execution_count": 62,
     "metadata": {},
     "output_type": "execute_result"
    }
   ],
   "source": [
    "DF.shape"
   ]
  },
  {
   "cell_type": "code",
   "execution_count": 63,
   "id": "9cc81292",
   "metadata": {},
   "outputs": [
    {
     "data": {
      "text/plain": [
       "satisfaction                         129880\n",
       "Gender                               129880\n",
       "Customer Type                        129880\n",
       "Age                                  129880\n",
       "Type of Travel                       129880\n",
       "Class                                129880\n",
       "Flight Distance                      129880\n",
       "Seat comfort                         129880\n",
       "Departure/Arrival time convenient    129880\n",
       "Food and drink                       129880\n",
       "Gate location                        129880\n",
       "Inflight wifi service                129880\n",
       "Inflight entertainment               129880\n",
       "Online support                       129880\n",
       "Ease of Online booking               129880\n",
       "On-board service                     129880\n",
       "Leg room service                     129880\n",
       "Baggage handling                     129880\n",
       "Checkin service                      129880\n",
       "Cleanliness                          129880\n",
       "Online boarding                      129880\n",
       "Departure Delay in Minutes           129880\n",
       "Arrival Delay in Minutes             129487\n",
       "dtype: int64"
      ]
     },
     "execution_count": 63,
     "metadata": {},
     "output_type": "execute_result"
    }
   ],
   "source": [
    "DF.count()"
   ]
  },
  {
   "cell_type": "code",
   "execution_count": 64,
   "id": "fbb1087d",
   "metadata": {},
   "outputs": [],
   "source": [
    "#vamoms a convetir \n",
    "#satisfaction column \n",
    "satisfaction_mapping = {\"satisfied\": 1, \"dissatisfied\": 0} \n",
    "DF['satisfaction'] = DF['satisfaction'].map(satisfaction_mapping) \n",
    "\n",
    "## Gender column - label encoding  \n",
    "gender_mapping = {\"Female\": 1, \"Male\": 0}\n",
    "DF['Gender'] = DF['Gender'].map(gender_mapping) \n",
    "\n",
    "## Customer type column - label encoding  \n",
    "customer_type_mapping = {\"Loyal Customer\": 1, \"disloyal Customer\": 0}\n",
    "DF['Customer Type'] = DF['Customer Type'].map(customer_type_mapping) \n",
    "\n",
    "## Type of travel column - label encoding  \n",
    "travel_type_mapping = {\"Business travel\": 2, \"Personal Travel\": 1}\n",
    "DF['Type of Travel'] = DF['Type of Travel'].map(travel_type_mapping)  \n",
    "\n",
    "## Class column - label encoding  \n",
    "class_mapping = {\"Business\": 3, \"Eco Plus\": 2, \"Eco\": 1}\n",
    "DF['Class'] = DF['Class'].map(class_mapping)\n",
    "\n",
    "import numpy as np\n",
    "import seaborn as sns\n",
    "import matplotlib.pyplot as plt\n",
    "from sklearn.model_selection import train_test_split"
   ]
  },
  {
   "cell_type": "code",
   "execution_count": 65,
   "id": "35750904",
   "metadata": {},
   "outputs": [
    {
     "data": {
      "text/plain": [
       "<AxesSubplot:xlabel='Class', ylabel='count'>"
      ]
     },
     "execution_count": 65,
     "metadata": {},
     "output_type": "execute_result"
    },
    {
     "data": {
      "image/png": "[encoded data removed]",
      "text/plain": [
       "<Figure size 432x288 with 1 Axes>"
      ]
     },
     "metadata": {
      "needs_background": "light"
     },
     "output_type": "display_data"
    }
   ],
   "source": [
    "sns.countplot(x=DF['Class'])\n",
    "\n"
   ]
  },
  {
   "cell_type": "code",
   "execution_count": 66,
   "id": "cd5c0141",
   "metadata": {},
   "outputs": [
    {
     "data": {
      "text/plain": [
       "<function matplotlib.pyplot.show(close=None, block=None)>"
      ]
     },
     "execution_count": 66,
     "metadata": {},
     "output_type": "execute_result"
    },
    {
     "data": {
      "image/png": "[encoded data removed]",
      "text/plain": [
       "<Figure size 432x288 with 1 Axes>"
      ]
     },
     "metadata": {
      "needs_background": "light"
     },
     "output_type": "display_data"
    }
   ],
   "source": [
    "\n",
    "sns.countplot(x=DF['Customer Type'])\n",
    "plt.xlabel('0 = desleal vs 1 = leal')\n",
    "plt.show"
   ]
  },
  {
   "cell_type": "code",
   "execution_count": null,
   "id": "d7df854b",
   "metadata": {},
   "outputs": [],
   "source": []
  },
  {
   "cell_type": "code",
   "execution_count": 67,
   "id": "91d13a00",
   "metadata": {},
   "outputs": [
    {
     "data": {
      "text/plain": [
       "Text(0.5, 0, '0 = insatisfecho vs 1 = satisfecho')"
      ]
     },
     "execution_count": 67,
     "metadata": {},
     "output_type": "execute_result"
    },
    {
     "data": {
      "image/png": "[encoded data removed]",
      "text/plain": [
       "<Figure size 432x288 with 1 Axes>"
      ]
     },
     "metadata": {
      "needs_background": "light"
     },
     "output_type": "display_data"
    }
   ],
   "source": [
    "\n",
    "sns.countplot(x=DF['satisfaction'])\n",
    "plt.xlabel('0 = insatisfecho vs 1 = satisfecho')\n"
   ]
  },
  {
   "cell_type": "code",
   "execution_count": 68,
   "id": "dab15c54",
   "metadata": {},
   "outputs": [
    {
     "data": {
      "text/plain": [
       "Index(['satisfaction', 'Gender', 'Customer Type', 'Age', 'Type of Travel',\n",
       "       'Class', 'Flight Distance', 'Seat comfort',\n",
       "       'Departure/Arrival time convenient', 'Food and drink', 'Gate location',\n",
       "       'Inflight wifi service', 'Inflight entertainment', 'Online support',\n",
       "       'Ease of Online booking', 'On-board service', 'Leg room service',\n",
       "       'Baggage handling', 'Checkin service', 'Cleanliness', 'Online boarding',\n",
       "       'Departure Delay in Minutes', 'Arrival Delay in Minutes'],\n",
       "      dtype='object')"
      ]
     },
     "execution_count": 68,
     "metadata": {},
     "output_type": "execute_result"
    }
   ],
   "source": [
    "DF.columns"
   ]
  },
  {
   "cell_type": "code",
   "execution_count": 69,
   "id": "a6fc8eaf",
   "metadata": {},
   "outputs": [
    {
     "data": {
      "text/html": [
       "<div>\n",
       "<style scoped>\n",
       "    .dataframe tbody tr th:only-of-type {\n",
       "        vertical-align: middle;\n",
       "    }\n",
       "\n",
       "    .dataframe tbody tr th {\n",
       "        vertical-align: top;\n",
       "    }\n",
       "\n",
       "    .dataframe thead th {\n",
       "        text-align: right;\n",
       "    }\n",
       "</style>\n",
       "<table border=\"1\" class=\"dataframe\">\n",
       "  <thead>\n",
       "    <tr style=\"text-align: right;\">\n",
       "      <th></th>\n",
       "      <th>Gender</th>\n",
       "      <th>Customer Type</th>\n",
       "      <th>Type of Travel</th>\n",
       "      <th>Class</th>\n",
       "    </tr>\n",
       "  </thead>\n",
       "  <tbody>\n",
       "    <tr>\n",
       "      <th>0</th>\n",
       "      <td>1</td>\n",
       "      <td>1</td>\n",
       "      <td>1</td>\n",
       "      <td>1</td>\n",
       "    </tr>\n",
       "    <tr>\n",
       "      <th>1</th>\n",
       "      <td>0</td>\n",
       "      <td>1</td>\n",
       "      <td>1</td>\n",
       "      <td>3</td>\n",
       "    </tr>\n",
       "    <tr>\n",
       "      <th>2</th>\n",
       "      <td>1</td>\n",
       "      <td>1</td>\n",
       "      <td>1</td>\n",
       "      <td>1</td>\n",
       "    </tr>\n",
       "    <tr>\n",
       "      <th>3</th>\n",
       "      <td>1</td>\n",
       "      <td>1</td>\n",
       "      <td>1</td>\n",
       "      <td>1</td>\n",
       "    </tr>\n",
       "    <tr>\n",
       "      <th>4</th>\n",
       "      <td>1</td>\n",
       "      <td>1</td>\n",
       "      <td>1</td>\n",
       "      <td>1</td>\n",
       "    </tr>\n",
       "  </tbody>\n",
       "</table>\n",
       "</div>"
      ],
      "text/plain": [
       "   Gender  Customer Type  Type of Travel  Class\n",
       "0       1              1               1      1\n",
       "1       0              1               1      3\n",
       "2       1              1               1      1\n",
       "3       1              1               1      1\n",
       "4       1              1               1      1"
      ]
     },
     "execution_count": 69,
     "metadata": {},
     "output_type": "execute_result"
    }
   ],
   "source": [
    "X_data = DF.drop(columns=['satisfaction', 'Flight Distance', 'Seat comfort',\n",
    "       'Departure/Arrival time convenient', 'Food and drink', 'Gate location',\n",
    "       'Inflight wifi service', 'Inflight entertainment', 'Online support',\n",
    "       'Ease of Online booking', 'On-board service', 'Leg room service',\n",
    "       'Baggage handling', 'Checkin service', 'Cleanliness', 'Online boarding',\n",
    "       'Departure Delay in Minutes', 'Arrival Delay in Minutes','Age'])\n",
    "X_data.head()"
   ]
  },
  {
   "cell_type": "code",
   "execution_count": 70,
   "id": "d5fcf47e",
   "metadata": {},
   "outputs": [
    {
     "data": {
      "text/plain": [
       "0    1\n",
       "1    1\n",
       "2    1\n",
       "3    1\n",
       "4    1\n",
       "Name: satisfaction, dtype: int64"
      ]
     },
     "execution_count": 70,
     "metadata": {},
     "output_type": "execute_result"
    }
   ],
   "source": [
    "y_satisfied = DF['satisfaction']\n",
    "y_satisfied.head()"
   ]
  },
  {
   "cell_type": "code",
   "execution_count": 71,
   "id": "7433eedf",
   "metadata": {},
   "outputs": [],
   "source": [
    "X_train, X_test, y_train, y_test = train_test_split(X_data, y_satisfied, test_size = 0.3, random_state = 42)"
   ]
  },
  {
   "cell_type": "code",
   "execution_count": null,
   "id": "77d79592",
   "metadata": {},
   "outputs": [],
   "source": []
  },
  {
   "cell_type": "code",
   "execution_count": 72,
   "id": "cd8784ef",
   "metadata": {},
   "outputs": [],
   "source": [
    "#Vamos a realizar un analisis con un arbol de clasificacion\n",
    "#debido a que la variable es dependiente "
   ]
  },
  {
   "cell_type": "code",
   "execution_count": 73,
   "id": "448c32c3",
   "metadata": {},
   "outputs": [],
   "source": [
    "from sklearn.model_selection import train_test_split\n",
    "from sklearn.tree import DecisionTreeClassifier\n",
    "from sklearn.metrics import confusion_matrix\n",
    "from sklearn.metrics import classification_report\n",
    "from sklearn.tree import export_graphviz"
   ]
  },
  {
   "cell_type": "code",
   "execution_count": 74,
   "id": "ef4385af",
   "metadata": {},
   "outputs": [],
   "source": [
    "X_train, X_test, y_train, y_test = train_test_split(X_data, y_satisfied, test_size = 0.3, random_state = 42)"
   ]
  },
  {
   "cell_type": "code",
   "execution_count": 75,
   "id": "28cdfcdf",
   "metadata": {},
   "outputs": [
    {
     "data": {
      "text/plain": [
       "DecisionTreeClassifier(criterion='entropy', random_state=0)"
      ]
     },
     "execution_count": 75,
     "metadata": {},
     "output_type": "execute_result"
    }
   ],
   "source": [
    "#modelo \n",
    "\n",
    "modelo = DecisionTreeClassifier(criterion = 'entropy', random_state = 0)\n",
    "modelo.fit(X_train, y_train)"
   ]
  },
  {
   "cell_type": "code",
   "execution_count": 76,
   "id": "c287f95e",
   "metadata": {},
   "outputs": [],
   "source": [
    "y_predict = modelo.predict(X_test)"
   ]
  },
  {
   "cell_type": "code",
   "execution_count": 77,
   "id": "a130b05a",
   "metadata": {},
   "outputs": [
    {
     "name": "stdout",
     "output_type": "stream",
     "text": [
      "[[13213  4341]\n",
      " [ 4606 16804]]\n"
     ]
    }
   ],
   "source": [
    "matrix = confusion_matrix(y_test, y_predict)\n",
    "print(matrix)"
   ]
  },
  {
   "cell_type": "code",
   "execution_count": 79,
   "id": "d6155ce0",
   "metadata": {},
   "outputs": [
    {
     "data": {
      "text/plain": [
       "<AxesSubplot:>"
      ]
     },
     "execution_count": 79,
     "metadata": {},
     "output_type": "execute_result"
    },
    {
     "data": {
      "image/png": "[encoded data removed]",
      "text/plain": [
       "<Figure size 360x360 with 2 Axes>"
      ]
     },
     "metadata": {
      "needs_background": "light"
     },
     "output_type": "display_data"
    }
   ],
   "source": [
    "plt.figure(figsize =(5,5))\n",
    "sns.heatmap(matrix, annot = True, fmt ='g', cmap = 'Blues')"
   ]
  },
  {
   "cell_type": "code",
   "execution_count": 80,
   "id": "c6e47940",
   "metadata": {},
   "outputs": [
    {
     "name": "stdout",
     "output_type": "stream",
     "text": [
      "              precision    recall  f1-score   support\n",
      "\n",
      "           0       0.74      0.75      0.75     17554\n",
      "           1       0.79      0.78      0.79     21410\n",
      "\n",
      "    accuracy                           0.77     38964\n",
      "   macro avg       0.77      0.77      0.77     38964\n",
      "weighted avg       0.77      0.77      0.77     38964\n",
      "\n"
     ]
    }
   ],
   "source": [
    "print(classification_report(y_test, y_predict))"
   ]
  },
  {
   "cell_type": "code",
   "execution_count": 84,
   "id": "1662eb0e",
   "metadata": {},
   "outputs": [],
   "source": [
    "#vamos a ver nuestro modelo graficamente\n",
    "export_graphviz(modelo, out_file = 'ModeloTree.dot', filled = True, feature_names =['Gender','Customer Type','Type of Travel','Class'])"
   ]
  },
  {
   "cell_type": "code",
   "execution_count": null,
   "id": "229c54f7",
   "metadata": {},
   "outputs": [],
   "source": []
  },
  {
   "cell_type": "code",
   "execution_count": null,
   "id": "dc332d5a",
   "metadata": {},
   "outputs": [],
   "source": []
  },
  {
   "cell_type": "code",
   "execution_count": null,
   "id": "b0939d5f",
   "metadata": {},
   "outputs": [],
   "source": []
  },
  {
   "cell_type": "code",
   "execution_count": null,
   "id": "cf313d1d",
   "metadata": {},
   "outputs": [],
   "source": []
  },
  {
   "cell_type": "code",
   "execution_count": null,
   "id": "c5ec7690",
   "metadata": {},
   "outputs": [],
   "source": []
  },
  {
   "cell_type": "code",
   "execution_count": null,
   "id": "9eade0e9",
   "metadata": {},
   "outputs": [],
   "source": []
  },
  {
   "cell_type": "code",
   "execution_count": null,
   "id": "dbe04aa6",
   "metadata": {},
   "outputs": [],
   "source": []
  },
  {
   "cell_type": "code",
   "execution_count": null,
   "id": "309e000f",
   "metadata": {},
   "outputs": [],
   "source": []
  },
  {
   "cell_type": "code",
   "execution_count": null,
   "id": "35005a97",
   "metadata": {},
   "outputs": [],
   "source": []
  },
  {
   "cell_type": "code",
   "execution_count": null,
   "id": "8013a98a",
   "metadata": {},
   "outputs": [],
   "source": []
  },
  {
   "cell_type": "code",
   "execution_count": null,
   "id": "faa053e7",
   "metadata": {},
   "outputs": [],
   "source": []
  },
  {
   "cell_type": "code",
   "execution_count": null,
   "id": "22f97d72",
   "metadata": {},
   "outputs": [],
   "source": []
  },
  {
   "cell_type": "code",
   "execution_count": null,
   "id": "084e857c",
   "metadata": {},
   "outputs": [],
   "source": []
  },
  {
   "cell_type": "code",
   "execution_count": null,
   "id": "08ffffa1",
   "metadata": {},
   "outputs": [],
   "source": []
  },
  {
   "cell_type": "code",
   "execution_count": null,
   "id": "1cfda4e0",
   "metadata": {},
   "outputs": [],
   "source": []
  },
  {
   "cell_type": "code",
   "execution_count": null,
   "id": "814ddb6d",
   "metadata": {},
   "outputs": [],
   "source": []
  },
  {
   "cell_type": "code",
   "execution_count": null,
   "id": "de90a1d3",
   "metadata": {},
   "outputs": [],
   "source": []
  },
  {
   "cell_type": "code",
   "execution_count": null,
   "id": "d28c39cc",
   "metadata": {},
   "outputs": [],
   "source": []
  },
  {
   "cell_type": "code",
   "execution_count": null,
   "id": "57b8376f",
   "metadata": {},
   "outputs": [],
   "source": []
  },
  {
   "cell_type": "code",
   "execution_count": null,
   "id": "0ce6c143",
   "metadata": {},
   "outputs": [],
   "source": []
  },
  {
   "cell_type": "code",
   "execution_count": null,
   "id": "80b3d09f",
   "metadata": {},
   "outputs": [],
   "source": []
  },
  {
   "cell_type": "code",
   "execution_count": null,
   "id": "9c6963af",
   "metadata": {},
   "outputs": [],
   "source": []
  },
  {
   "cell_type": "code",
   "execution_count": null,
   "id": "1c636fd5",
   "metadata": {},
   "outputs": [],
   "source": []
  },
  {
   "cell_type": "code",
   "execution_count": null,
   "id": "8b81aa56",
   "metadata": {},
   "outputs": [],
   "source": []
  },
  {
   "cell_type": "code",
   "execution_count": null,
   "id": "3abf9396",
   "metadata": {},
   "outputs": [],
   "source": []
  },
  {
   "cell_type": "code",
   "execution_count": null,
   "id": "1a6af7c1",
   "metadata": {},
   "outputs": [],
   "source": []
  },
  {
   "cell_type": "code",
   "execution_count": null,
   "id": "eea68427",
   "metadata": {},
   "outputs": [],
   "source": []
  },
  {
   "cell_type": "code",
   "execution_count": null,
   "id": "9e1c3c78",
   "metadata": {},
   "outputs": [],
   "source": []
  },
  {
   "cell_type": "code",
   "execution_count": null,
   "id": "177bccf8",
   "metadata": {},
   "outputs": [],
   "source": []
  },
  {
   "cell_type": "code",
   "execution_count": null,
   "id": "03647c40",
   "metadata": {},
   "outputs": [],
   "source": []
  },
  {
   "cell_type": "code",
   "execution_count": null,
   "id": "247d4c8a",
   "metadata": {},
   "outputs": [],
   "source": []
  },
  {
   "cell_type": "code",
   "execution_count": null,
   "id": "7ff2f236",
   "metadata": {},
   "outputs": [],
   "source": []
  },
  {
   "cell_type": "code",
   "execution_count": null,
   "id": "b49badd3",
   "metadata": {},
   "outputs": [],
   "source": []
  },
  {
   "cell_type": "code",
   "execution_count": null,
   "id": "b4419e6b",
   "metadata": {},
   "outputs": [],
   "source": []
  },
  {
   "cell_type": "code",
   "execution_count": null,
   "id": "843ea0d7",
   "metadata": {},
   "outputs": [],
   "source": []
  },
  {
   "cell_type": "code",
   "execution_count": null,
   "id": "b11e57cb",
   "metadata": {},
   "outputs": [],
   "source": []
  },
  {
   "cell_type": "code",
   "execution_count": null,
   "id": "bbdbd7e5",
   "metadata": {},
   "outputs": [],
   "source": []
  },
  {
   "cell_type": "code",
   "execution_count": null,
   "id": "09865609",
   "metadata": {},
   "outputs": [],
   "source": []
  },
  {
   "cell_type": "code",
   "execution_count": null,
   "id": "95f93e43",
   "metadata": {},
   "outputs": [],
   "source": []
  },
  {
   "cell_type": "code",
   "execution_count": null,
   "id": "d8ef341c",
   "metadata": {},
   "outputs": [],
   "source": []
  },
  {
   "cell_type": "code",
   "execution_count": null,
   "id": "ea2373a7",
   "metadata": {},
   "outputs": [],
   "source": []
  },
  {
   "cell_type": "code",
   "execution_count": null,
   "id": "8a235ab5",
   "metadata": {},
   "outputs": [],
   "source": []
  }
 ],
 "metadata": {
  "kernelspec": {
   "display_name": "Python 3 (ipykernel)",
   "language": "python",
   "name": "python3"
  },
  "language_info": {
   "codemirror_mode": {
    "name": "ipython",
    "version": 3
   },
   "file_extension": ".py",
   "mimetype": "text/x-python",
   "name": "python",
   "nbconvert_exporter": "python",
   "pygments_lexer": "ipython3",
   "version": "3.10.9"
  }
 },
 "nbformat": 4,
 "nbformat_minor": 5
}
